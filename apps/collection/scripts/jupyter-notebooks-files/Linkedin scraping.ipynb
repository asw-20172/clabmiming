{
 "cells": [
  {
   "cell_type": "code",
   "execution_count": null,
   "metadata": {
    "collapsed": true
   },
   "outputs": [],
   "source": [
    "import re\n",
    "import mechanize\n",
    "import argparse\n",
    "from getpass import getpass\n",
    "from IPython.core.display import HTML\n",
    "import sys\n",
    "reload(sys)\n",
    "sys.setdefaultencoding('utf-8')"
   ]
  },
  {
   "cell_type": "code",
   "execution_count": null,
   "metadata": {
    "collapsed": true
   },
   "outputs": [],
   "source": [
    "br = mechanize.Browser()\n",
    "br.set_handle_robots(False)\n",
    "#br.set_handle_referer(False)\n",
    "#br.set_handle_refresh(False)\n",
    "br.addheaders = [('User-agent', 'Firefox')]\n",
    "br.open(\"https://www.linkedin.com/uas/login\")\n",
    "for i in br.forms():\n",
    "    print i ,\"#\"\n",
    "br.select_form(\"login\")\n",
    "br.form['session_key'] = \"yuselenin_anquise@upeu.edu.pe\"\n",
    "br.form['session_password'] = \"Q1W2E3R4T5Y6\"\n",
    "br.submit()\n",
    "print br.geturl()"
   ]
  },
  {
   "cell_type": "code",
   "execution_count": null,
   "metadata": {
    "collapsed": true
   },
   "outputs": [],
   "source": [
    "br.open(\"https://www.linkedin.com/jobs/\")\n",
    "print br.geturl()"
   ]
  },
  {
   "cell_type": "code",
   "execution_count": null,
   "metadata": {
    "collapsed": true
   },
   "outputs": [],
   "source": [
    "#https://www.linkedin.com/jobs/search/?keywords=Analista&location=Per%C3%BA&locationId=pe%3A0"
   ]
  },
  {
   "cell_type": "code",
   "execution_count": null,
   "metadata": {
    "collapsed": true
   },
   "outputs": [],
   "source": [
    "br.open(\"https://www.linkedin.com/jobs/search/?keywords=Analista&locationId=pe%3A0\")\n",
    "print br.geturl()"
   ]
  },
  {
   "cell_type": "code",
   "execution_count": null,
   "metadata": {
    "collapsed": true
   },
   "outputs": [],
   "source": [
    "\n",
    "#HTML(br.response().read())\n",
    "Html_file= open(\"index.html\",\"w\")\n",
    "Html_file.write(br.response().read())\n",
    "Html_file.close()"
   ]
  },
  {
   "cell_type": "code",
   "execution_count": null,
   "metadata": {
    "collapsed": true
   },
   "outputs": [],
   "source": [
    "for l in br.links():\n",
    "    print l"
   ]
  },
  {
   "cell_type": "code",
   "execution_count": null,
   "metadata": {
    "collapsed": true
   },
   "outputs": [],
   "source": [
    "HTML(br.response().read())"
   ]
  }
 ],
 "metadata": {
  "kernelspec": {
   "display_name": "test",
   "language": "python",
   "name": "test"
  },
  "language_info": {
   "codemirror_mode": {
    "name": "ipython",
    "version": 2
   },
   "file_extension": ".py",
   "mimetype": "text/x-python",
   "name": "python",
   "nbconvert_exporter": "python",
   "pygments_lexer": "ipython2",
   "version": "2.7.13"
  }
 },
 "nbformat": 4,
 "nbformat_minor": 2
}
