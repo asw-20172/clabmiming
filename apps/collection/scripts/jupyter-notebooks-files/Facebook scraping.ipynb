{
 "cells": [
  {
   "cell_type": "code",
   "execution_count": 2,
   "metadata": {
    "collapsed": true
   },
   "outputs": [],
   "source": [
    "import re\n",
    "import mechanize\n",
    "from IPython.core.display import HTML\n",
    "import sys\n",
    "reload(sys)\n",
    "sys.setdefaultencoding('utf-8')"
   ]
  },
  {
   "cell_type": "code",
   "execution_count": 3,
   "metadata": {},
   "outputs": [
    {
     "data": {
      "text/plain": [
       "<response_seek_wrapper at 0x7f5b20a12cb0 whose wrapped object = <closeable_response at 0x7f5b20a12710 whose fp = <socket._fileobject object at 0x7f5b21b946d0>>>"
      ]
     },
     "execution_count": 3,
     "metadata": {},
     "output_type": "execute_result"
    }
   ],
   "source": [
    "br = mechanize.Browser()\n",
    "br.set_handle_robots(False)\n",
    "br.set_handle_referer(False)\n",
    "br.set_handle_refresh(False)\n",
    "br.addheaders = [('User-agent', 'Firefox')]\n",
    "br.open(\"https://www.facebook.com/login.php\")"
   ]
  },
  {
   "cell_type": "code",
   "execution_count": 7,
   "metadata": {
    "collapsed": true
   },
   "outputs": [],
   "source": [
    "br.select_form(nr=0)\n",
    "br.form['email'] = \"979988872\"\n",
    "br.form['pass'] = '(\"\")'\n",
    "br.submit()\n",
    "print br.geturl()"
   ]
  },
  {
   "cell_type": "code",
   "execution_count": 8,
   "metadata": {
    "collapsed": true
   },
   "outputs": [],
   "source": [
    "for i in br.forms():\n",
    "    print i ,\"#\""
   ]
  },
  {
   "cell_type": "code",
   "execution_count": 9,
   "metadata": {
    "collapsed": true
   },
   "outputs": [],
   "source": [
    "br.select_form(nr=0)\n",
    "br.form['q'] = \"se busca ingeniero de sistemas\"\n",
    "br.submit()\n",
    "print br.geturl()"
   ]
  },
  {
   "cell_type": "code",
   "execution_count": 10,
   "metadata": {
    "collapsed": true
   },
   "outputs": [],
   "source": [
    "#Forum Diseño Arquitectura Comercial LTDA'\n",
    "#se busca ingeniero de sistemas"
   ]
  },
  {
   "cell_type": "code",
   "execution_count": 14,
   "metadata": {},
   "outputs": [
    {
     "data": {
      "text/html": [
       "<!DOCTYPE html>\n",
       "<html lang=\"en\" id=\"facebook\" class=\"no_js\">\n",
       "<head><meta charset=\"utf-8\" /><meta name=\"referrer\" content=\"default\" id=\"meta_referrer\" /><script>window._cstart=+new Date();</script><script>function envFlush(a){function b(c){for(var d in a)c[d]=a[d]}if(window.requireLazy)window.requireLazy([\"Env\"],b);else{window.Env=window.Env||{};b(window.Env)}}envFlush({\"ajaxpipe_token\":\"AXjFNIP0Sw6Qxh3J\",\"timeslice_heartbeat_config\":{\"pollIntervalMs\":33,\"idleGapThresholdMs\":60,\"ignoredTimesliceNames\":{\"requestAnimationFrame\":true,\"Event listenHandler mousemove\":true,\"Event listenHandler mouseover\":true,\"Event listenHandler mouseout\":true,\"Event listenHandler scroll\":true},\"enableOnRequire\":true},\"shouldLogCounters\":true,\"timeslice_categories\":{\"react_render\":true,\"reflow\":true},\"dom_mutation_flag\":true,\"timesliceBufferSize\":5000,\"sample_continuation_stacktraces\":true});</script><style></style><script>__DEV__=0;CavalryLogger=window.CavalryLogger||function(a){this.lid=a;this.transition=false;this.metric_collected=false;this.is_detailed_profiler=false;this.instrumentation_started=false;this.pagelet_metrics={};this.events={};this.ongoing_watch={};this.values={t_cstart:window._cstart};this.piggy_values={};this.bootloader_metrics={};this.resource_to_pagelet_mapping={};this.e2eLogged=false;if(this.initializeInstrumentation)this.initializeInstrumentation()};CavalryLogger.prototype.setIsDetailedProfiler=function(a){this.is_detailed_profiler=a;return this};CavalryLogger.prototype.setTTIEvent=function(a){this.tti_event=a;return this};CavalryLogger.prototype.setValue=function(a,b,c,d){var e=d?this.piggy_values:this.values;if(typeof e[a]==\"undefined\"||c)e[a]=b;return this};CavalryLogger.prototype.getLastTtiValue=function(){return this.lastTtiValue};CavalryLogger.prototype.setTimeStamp=CavalryLogger.prototype.setTimeStamp||function(a,b,c,d){this.mark(a);var e=this.values.t_cstart||this.values.t_start,f=d?e+d:CavalryLogger.now();this.setValue(a,f,b,c);if(this.tti_event&&a==this.tti_event){this.lastTtiValue=f;this.setTimeStamp(\"t_tti\",b)}return this};CavalryLogger.prototype.mark=typeof console===\"object\"&&console.timeStamp?function(a){console.timeStamp(a)}:function(){};CavalryLogger.prototype.addPiggyback=function(a,b){this.piggy_values[a]=b;return this};CavalryLogger.instances={};CavalryLogger.id=0;CavalryLogger.perfNubMarkup=\"\";CavalryLogger.getInstance=function(a){if(typeof a==\"undefined\")a=CavalryLogger.id;if(!CavalryLogger.instances[a])CavalryLogger.instances[a]=new CavalryLogger(a);return CavalryLogger.instances[a]};CavalryLogger.setPageID=function(a){if(CavalryLogger.id===0){var b=CavalryLogger.getInstance();CavalryLogger.instances[a]=b;CavalryLogger.instances[a].lid=a;delete CavalryLogger.instances[0]}CavalryLogger.id=a};CavalryLogger.setPerfNubMarkup=function(a){CavalryLogger.perfNubMarkup=a};CavalryLogger.now=function(){if(window.performance&&performance.timing&&performance.timing.navigationStart&&performance.now)return performance.now()+performance.timing.navigationStart;return new Date().getTime()};CavalryLogger.prototype.measureResources=function(){};CavalryLogger.prototype.profileEarlyResources=function(){};CavalryLogger.getBootloaderMetricsFromAllLoggers=function(){};CavalryLogger.start_js=function(){};CavalryLogger.done_js=function(){};CavalryLogger.getInstance().setTTIEvent(\"t_domcontent\");CavalryLogger.prototype.measureResources=function(a,b){if(!this.log_resources)return;var c=\"bootload/\"+a.name;if(this.bootloader_metrics[c]!==undefined||this.ongoing_watch[c]!==undefined)return;var d=CavalryLogger.now();this.ongoing_watch[c]=d;if(!(\"start_\"+c in this.bootloader_metrics))this.bootloader_metrics[\"start_\"+c]=d;if(b&&!(\"tag_\"+c in this.bootloader_metrics))this.bootloader_metrics[\"tag_\"+c]=b;if(a.type===\"js\"){var e=\"js_exec/\"+a.name;this.ongoing_watch[e]=d}};CavalryLogger.prototype.stopWatch=function(a){if(this.ongoing_watch[a]){var b=CavalryLogger.now(),c=b-this.ongoing_watch[a];this.bootloader_metrics[a]=c;var d=this.piggy_values;if(a.indexOf(\"bootload\")===0){if(!d.t_resource_download)d.t_resource_download=0;if(!d.resour"
      ],
      "text/plain": [
       "<IPython.core.display.HTML object>"
      ]
     },
     "execution_count": 14,
     "metadata": {},
     "output_type": "execute_result"
    }
   ],
   "source": [
    "HTML(br.response().read())"
   ]
  }
 ],
 "metadata": {
  "kernelspec": {
   "display_name": "test",
   "language": "python",
   "name": "test"
  },
  "language_info": {
   "codemirror_mode": {
    "name": "ipython",
    "version": 2
   },
   "file_extension": ".py",
   "mimetype": "text/x-python",
   "name": "python",
   "nbconvert_exporter": "python",
   "pygments_lexer": "ipython2",
   "version": "2.7.13"
  }
 },
 "nbformat": 4,
 "nbformat_minor": 2
}
