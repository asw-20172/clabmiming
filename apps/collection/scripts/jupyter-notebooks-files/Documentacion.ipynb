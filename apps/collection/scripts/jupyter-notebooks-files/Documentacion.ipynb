{
 "cells": [
  {
   "cell_type": "markdown",
   "metadata": {},
   "source": [
    "# Documentacion"
   ]
  },
  {
   "cell_type": "markdown",
   "metadata": {},
   "source": [
    "Para ejecutar jupyter-notebook dentro de un entorno virtual se hizo lo siguiente\n",
    "\n",
    "1. Intalar el modulo ipython kernel dentro del entorno virtual\n",
    "```sh\n",
    "workon test  # activar el entorno virtual\n",
    "pip install ipykernel\n",
    "```\n",
    "\n",
    "2. Luego agregar para que se instale en kernelspec(Dentro del notebook):\n",
    "```sh\n",
    "python -m ipykernel install --user --name=test # Remplazar el name con el nombre del entorno virtual.\n",
    "```\n",
    "\n",
    "3. Seguidamente ejecutar para iniciarlo desde el menu.\n",
    "```sh\n",
    "jupyter notebook \n",
    "```\n"
   ]
  },
  {
   "cell_type": "markdown",
   "metadata": {},
   "source": [
    "## Pruebas"
   ]
  },
  {
   "cell_type": "code",
   "execution_count": 1,
   "metadata": {
    "collapsed": true
   },
   "outputs": [],
   "source": [
    "API_KEY = '77r4n8r4pco47a'\n",
    "API_SECRET = 'OncGPtIIxzRRHFHj'\n",
    "# Not required for developer authentication\n",
    "RETURN_URL = 'http://localhost:8000'"
   ]
  },
  {
   "cell_type": "code",
   "execution_count": 3,
   "metadata": {},
   "outputs": [],
   "source": [
    "# -*- coding: utf-8 -*-\n",
    "import BaseHTTPServer\n",
    "import urlparse\n",
    "from linkedin import linkedin\n",
    "\n",
    "def quick_api(api_key, secret_key, port=8080):\n",
    "    \"\"\"\n",
    "    This method helps you get access to linkedin api quickly when using it\n",
    "    from the interpreter.\n",
    "    Notice that this method creates http server and wait for a request, so it\n",
    "    shouldn't be used in real production code - it's just an helper for debugging\n",
    "    The usage is basically:\n",
    "    api = quick_api(KEY, SECRET)\n",
    "    After you do that, it will print a URL to the screen which you must go in\n",
    "    and allow the access, after you do that, the method will return with the api\n",
    "    object.\n",
    "    \"\"\"\n",
    "    auth = linkedin.LinkedInAuthentication(api_key, secret_key, 'http://localhost:8080/code',\n",
    "                                  linkedin.PERMISSIONS.enums.values())\n",
    "    app = linkedin.LinkedInApplication(authentication=auth)\n",
    "    print auth.authorization_url\n",
    "    _wait_for_user_to_enter_browser(app, port)\n",
    "    return app\n",
    "\n",
    "\n",
    "def _wait_for_user_to_enter_browser(app, port):\n",
    "    class MyHandler(BaseHTTPServer.BaseHTTPRequestHandler):\n",
    "        def do_GET(self):\n",
    "            p = self.path.split('?')\n",
    "            if len(p) > 1:\n",
    "                params = urlparse.parse_qs(p[1], True, True)\n",
    "                app.authentication.authorization_code = params['code'][0]\n",
    "                app.authentication.get_access_token()\n",
    "\n",
    "    server_address = ('', port)\n",
    "    httpd = BaseHTTPServer.HTTPServer(server_address, MyHandler)\n",
    "    httpd.handle_request()\n",
    "application = quick_api(API_KEY, API_SECRET)"
   ]
  },
  {
   "cell_type": "code",
   "execution_count": 7,
   "metadata": {},
   "outputs": [
    {
     "data": {
      "text/plain": [
       "{u'firstName': u'Yuselenin',\n",
       " u'headline': u'Analista Programador en Consultora de la Universidad Peruana Union Filial Juliaca',\n",
       " u'id': u'PDML_9ryUG',\n",
       " u'lastName': u'Anquise Jihua\\xf1a',\n",
       " u'siteStandardProfileRequest': {u'url': u'https://www.linkedin.com/profile/view?id=AAoAABStJGoBPCFkoCeGahZcBS-FVdKAZoClA98&authType=name&authToken=X3P-&trk=api*a4904413*s4887853*'}}"
      ]
     },
     "execution_count": 7,
     "metadata": {},
     "output_type": "execute_result"
    }
   ],
   "source": [
    "application.get_profile()\n"
   ]
  },
  {
   "cell_type": "code",
   "execution_count": 11,
   "metadata": {},
   "outputs": [
    {
     "data": {
      "text/plain": [
       "{u'distance': 0,\n",
       " u'firstName': u'Yuselenin',\n",
       " u'id': u'PDML_9ryUG',\n",
       " u'lastName': u'Anquise Jihua\\xf1a',\n",
       " u'location': {u'country': {u'code': u'pe'}, u'name': u'Peru'},\n",
       " u'numConnections': 42}"
      ]
     },
     "execution_count": 11,
     "metadata": {},
     "output_type": "execute_result"
    }
   ],
   "source": [
    "application.get_profile(selectors=['id', 'first-name', 'last-name', 'location', 'distance', 'num-connections', 'skills', 'educations'])\n"
   ]
  },
  {
   "cell_type": "code",
   "execution_count": 10,
   "metadata": {},
   "outputs": [
    {
     "ename": "LinkedInError",
     "evalue": "403 Client Error: Forbidden for url: https://api.linkedin.com/v1/people-search:(people:(first-name,last-name))?keywords=apple+microsoft&oauth2_access_token=AQXJok60dVFTV6VHapQRtkFL50MY8xiApWvMJxX1ZZjNPPCVZja_3KI30p7VzBsZiOj5taO6xfTg6z3dPAq-50PH7UE3pB-sJxzEkY1Tvh0CCibPtyiV-1shwlIlleZgrg_fR_eIPVYkE9iKz3hAI-3JvzzhN4DZUsmuQyyn_Mhy1ZKRd6w: Unknown Error",
     "output_type": "error",
     "traceback": [
      "\u001b[0;31m---------------------------------------------------------------------------\u001b[0m",
      "\u001b[0;31mLinkedInError\u001b[0m                             Traceback (most recent call last)",
      "\u001b[0;32m<ipython-input-10-3111bbc37949>\u001b[0m in \u001b[0;36m<module>\u001b[0;34m()\u001b[0m\n\u001b[0;32m----> 1\u001b[0;31m \u001b[0mapplication\u001b[0m\u001b[0;34m.\u001b[0m\u001b[0msearch_profile\u001b[0m\u001b[0;34m(\u001b[0m\u001b[0mselectors\u001b[0m\u001b[0;34m=\u001b[0m\u001b[0;34m[\u001b[0m\u001b[0;34m{\u001b[0m\u001b[0;34m'people'\u001b[0m\u001b[0;34m:\u001b[0m \u001b[0;34m[\u001b[0m\u001b[0;34m'first-name'\u001b[0m\u001b[0;34m,\u001b[0m \u001b[0;34m'last-name'\u001b[0m\u001b[0;34m]\u001b[0m\u001b[0;34m}\u001b[0m\u001b[0;34m]\u001b[0m\u001b[0;34m,\u001b[0m \u001b[0mparams\u001b[0m\u001b[0;34m=\u001b[0m\u001b[0;34m{\u001b[0m\u001b[0;34m'keywords'\u001b[0m\u001b[0;34m:\u001b[0m \u001b[0;34m'apple microsoft'\u001b[0m\u001b[0;34m}\u001b[0m\u001b[0;34m)\u001b[0m\u001b[0;34m\u001b[0m\u001b[0m\n\u001b[0m",
      "\u001b[0;32m/home/yuselenin/.virtualenvs/test/local/lib/python2.7/site-packages/linkedin/linkedin.pyc\u001b[0m in \u001b[0;36msearch_profile\u001b[0;34m(self, selectors, params, headers)\u001b[0m\n\u001b[1;32m    199\u001b[0m         response = self.make_request(\n\u001b[1;32m    200\u001b[0m             'GET', url, params=params, headers=headers)\n\u001b[0;32m--> 201\u001b[0;31m         \u001b[0mraise_for_error\u001b[0m\u001b[0;34m(\u001b[0m\u001b[0mresponse\u001b[0m\u001b[0;34m)\u001b[0m\u001b[0;34m\u001b[0m\u001b[0m\n\u001b[0m\u001b[1;32m    202\u001b[0m         \u001b[0;32mreturn\u001b[0m \u001b[0mresponse\u001b[0m\u001b[0;34m.\u001b[0m\u001b[0mjson\u001b[0m\u001b[0;34m(\u001b[0m\u001b[0;34m)\u001b[0m\u001b[0;34m\u001b[0m\u001b[0m\n\u001b[1;32m    203\u001b[0m \u001b[0;34m\u001b[0m\u001b[0m\n",
      "\u001b[0;32m/home/yuselenin/.virtualenvs/test/local/lib/python2.7/site-packages/linkedin/utils.pyc\u001b[0m in \u001b[0;36mraise_for_error\u001b[0;34m(response)\u001b[0m\n\u001b[1;32m     61\u001b[0m                 message = '%s: %s' % (response.get('error', error.message),\n\u001b[1;32m     62\u001b[0m                                       response.get('error_description', 'Unknown Error'))\n\u001b[0;32m---> 63\u001b[0;31m                 \u001b[0;32mraise\u001b[0m \u001b[0mLinkedInError\u001b[0m\u001b[0;34m(\u001b[0m\u001b[0mmessage\u001b[0m\u001b[0;34m)\u001b[0m\u001b[0;34m\u001b[0m\u001b[0m\n\u001b[0m\u001b[1;32m     64\u001b[0m             \u001b[0;32melse\u001b[0m\u001b[0;34m:\u001b[0m\u001b[0;34m\u001b[0m\u001b[0m\n\u001b[1;32m     65\u001b[0m                 \u001b[0;32mraise\u001b[0m \u001b[0mLinkedInError\u001b[0m\u001b[0;34m(\u001b[0m\u001b[0merror\u001b[0m\u001b[0;34m.\u001b[0m\u001b[0mmessage\u001b[0m\u001b[0;34m)\u001b[0m\u001b[0;34m\u001b[0m\u001b[0m\n",
      "\u001b[0;31mLinkedInError\u001b[0m: 403 Client Error: Forbidden for url: https://api.linkedin.com/v1/people-search:(people:(first-name,last-name))?keywords=apple+microsoft&oauth2_access_token=AQXJok60dVFTV6VHapQRtkFL50MY8xiApWvMJxX1ZZjNPPCVZja_3KI30p7VzBsZiOj5taO6xfTg6z3dPAq-50PH7UE3pB-sJxzEkY1Tvh0CCibPtyiV-1shwlIlleZgrg_fR_eIPVYkE9iKz3hAI-3JvzzhN4DZUsmuQyyn_Mhy1ZKRd6w: Unknown Error"
     ]
    }
   ],
   "source": [
    "application.search_profile(selectors=[{'people': ['first-name', 'last-name']}], params={'keywords': 'apple microsoft'})\n"
   ]
  },
  {
   "cell_type": "code",
   "execution_count": 12,
   "metadata": {},
   "outputs": [
    {
     "data": {
      "text/plain": [
       "{u'companies': {u'_count': 10,\n",
       "  u'_start': 0,\n",
       "  u'_total': 2107,\n",
       "  u'values': [{u'name': u'I4ICT - Apple, Microsoft & Google Apps Specialist',\n",
       "    u'universalName': u'i4ict',\n",
       "    u'websiteUrl': u'www.i4ict.com'},\n",
       "   {u'name': u'Alliance Data',\n",
       "    u'universalName': u'alliance-data',\n",
       "    u'websiteUrl': u'www.alliancedata.com'},\n",
       "   {u'name': u'Nasdaq',\n",
       "    u'universalName': u'nasdaq',\n",
       "    u'websiteUrl': u'http://business.nasdaq.com'},\n",
       "   {u'name': u'IDA Ireland',\n",
       "    u'universalName': u'ida-ireland',\n",
       "    u'websiteUrl': u'http://www.idaireland.com'},\n",
       "   {u'name': u'NetCom Learning',\n",
       "    u'universalName': u'netcom-learning',\n",
       "    u'websiteUrl': u'www.netcomlearning.com'},\n",
       "   {u'name': u'NH Learning Solutions Corporation',\n",
       "    u'universalName': u'nh-learning-solutions',\n",
       "    u'websiteUrl': u'www.nhls.com'},\n",
       "   {u'name': u'CCB Technology',\n",
       "    u'universalName': u'ccb',\n",
       "    u'websiteUrl': u'http://www.ccbtechnology.com'},\n",
       "   {u'name': u'BlueWave Computing - now a Onepath company',\n",
       "    u'universalName': u'bluewave-computing',\n",
       "    u'websiteUrl': u'https://1path.com'},\n",
       "   {u'name': u'Infracore LLC',\n",
       "    u'universalName': u'infracore',\n",
       "    u'websiteUrl': u'www.infracore.net'},\n",
       "   {u'name': u'The Red Cape Company, LLC (RedCape)',\n",
       "    u'universalName': u'the-red-cape-company-llc-redcape-',\n",
       "    u'websiteUrl': u'www.redcapeco.com'}]}}"
      ]
     },
     "execution_count": 12,
     "metadata": {},
     "output_type": "execute_result"
    }
   ],
   "source": [
    "application.search_company(selectors=[{'companies': ['name', 'universal-name', 'website-url']}], params={'keywords': 'apple microsoft'})\n"
   ]
  },
  {
   "cell_type": "code",
   "execution_count": 13,
   "metadata": {},
   "outputs": [
    {
     "ename": "LinkedInError",
     "evalue": "403 Client Error: Forbidden for url: https://api.linkedin.com/v1/job-search:(jobs:(id,customer-job-code,posting-date))?count=2&oauth2_access_token=AQXJok60dVFTV6VHapQRtkFL50MY8xiApWvMJxX1ZZjNPPCVZja_3KI30p7VzBsZiOj5taO6xfTg6z3dPAq-50PH7UE3pB-sJxzEkY1Tvh0CCibPtyiV-1shwlIlleZgrg_fR_eIPVYkE9iKz3hAI-3JvzzhN4DZUsmuQyyn_Mhy1ZKRd6w&title=python: Unknown Error",
     "output_type": "error",
     "traceback": [
      "\u001b[0;31m---------------------------------------------------------------------------\u001b[0m",
      "\u001b[0;31mLinkedInError\u001b[0m                             Traceback (most recent call last)",
      "\u001b[0;32m<ipython-input-13-b675a47d3491>\u001b[0m in \u001b[0;36m<module>\u001b[0;34m()\u001b[0m\n\u001b[0;32m----> 1\u001b[0;31m \u001b[0mapplication\u001b[0m\u001b[0;34m.\u001b[0m\u001b[0msearch_job\u001b[0m\u001b[0;34m(\u001b[0m\u001b[0mselectors\u001b[0m\u001b[0;34m=\u001b[0m\u001b[0;34m[\u001b[0m\u001b[0;34m{\u001b[0m\u001b[0;34m'jobs'\u001b[0m\u001b[0;34m:\u001b[0m \u001b[0;34m[\u001b[0m\u001b[0;34m'id'\u001b[0m\u001b[0;34m,\u001b[0m \u001b[0;34m'customer-job-code'\u001b[0m\u001b[0;34m,\u001b[0m \u001b[0;34m'posting-date'\u001b[0m\u001b[0;34m]\u001b[0m\u001b[0;34m}\u001b[0m\u001b[0;34m]\u001b[0m\u001b[0;34m,\u001b[0m \u001b[0mparams\u001b[0m\u001b[0;34m=\u001b[0m\u001b[0;34m{\u001b[0m\u001b[0;34m'title'\u001b[0m\u001b[0;34m:\u001b[0m \u001b[0;34m'python'\u001b[0m\u001b[0;34m,\u001b[0m \u001b[0;34m'count'\u001b[0m\u001b[0;34m:\u001b[0m \u001b[0;36m2\u001b[0m\u001b[0;34m}\u001b[0m\u001b[0;34m)\u001b[0m\u001b[0;34m\u001b[0m\u001b[0m\n\u001b[0m",
      "\u001b[0;32m/home/yuselenin/.virtualenvs/test/local/lib/python2.7/site-packages/linkedin/linkedin.pyc\u001b[0m in \u001b[0;36msearch_job\u001b[0;34m(self, selectors, params, headers)\u001b[0m\n\u001b[1;32m    424\u001b[0m         response = self.make_request(\n\u001b[1;32m    425\u001b[0m             'GET', url, params=params, headers=headers)\n\u001b[0;32m--> 426\u001b[0;31m         \u001b[0mraise_for_error\u001b[0m\u001b[0;34m(\u001b[0m\u001b[0mresponse\u001b[0m\u001b[0;34m)\u001b[0m\u001b[0;34m\u001b[0m\u001b[0m\n\u001b[0m\u001b[1;32m    427\u001b[0m         \u001b[0;32mreturn\u001b[0m \u001b[0mresponse\u001b[0m\u001b[0;34m.\u001b[0m\u001b[0mjson\u001b[0m\u001b[0;34m(\u001b[0m\u001b[0;34m)\u001b[0m\u001b[0;34m\u001b[0m\u001b[0m\n\u001b[1;32m    428\u001b[0m \u001b[0;34m\u001b[0m\u001b[0m\n",
      "\u001b[0;32m/home/yuselenin/.virtualenvs/test/local/lib/python2.7/site-packages/linkedin/utils.pyc\u001b[0m in \u001b[0;36mraise_for_error\u001b[0;34m(response)\u001b[0m\n\u001b[1;32m     61\u001b[0m                 message = '%s: %s' % (response.get('error', error.message),\n\u001b[1;32m     62\u001b[0m                                       response.get('error_description', 'Unknown Error'))\n\u001b[0;32m---> 63\u001b[0;31m                 \u001b[0;32mraise\u001b[0m \u001b[0mLinkedInError\u001b[0m\u001b[0;34m(\u001b[0m\u001b[0mmessage\u001b[0m\u001b[0;34m)\u001b[0m\u001b[0;34m\u001b[0m\u001b[0m\n\u001b[0m\u001b[1;32m     64\u001b[0m             \u001b[0;32melse\u001b[0m\u001b[0;34m:\u001b[0m\u001b[0;34m\u001b[0m\u001b[0m\n\u001b[1;32m     65\u001b[0m                 \u001b[0;32mraise\u001b[0m \u001b[0mLinkedInError\u001b[0m\u001b[0;34m(\u001b[0m\u001b[0merror\u001b[0m\u001b[0;34m.\u001b[0m\u001b[0mmessage\u001b[0m\u001b[0;34m)\u001b[0m\u001b[0;34m\u001b[0m\u001b[0m\n",
      "\u001b[0;31mLinkedInError\u001b[0m: 403 Client Error: Forbidden for url: https://api.linkedin.com/v1/job-search:(jobs:(id,customer-job-code,posting-date))?count=2&oauth2_access_token=AQXJok60dVFTV6VHapQRtkFL50MY8xiApWvMJxX1ZZjNPPCVZja_3KI30p7VzBsZiOj5taO6xfTg6z3dPAq-50PH7UE3pB-sJxzEkY1Tvh0CCibPtyiV-1shwlIlleZgrg_fR_eIPVYkE9iKz3hAI-3JvzzhN4DZUsmuQyyn_Mhy1ZKRd6w&title=python: Unknown Error"
     ]
    }
   ],
   "source": [
    "application.search_job(selectors=[{'jobs': ['id', 'customer-job-code', 'posting-date']}], params={'title': 'python', 'count': 2})\n"
   ]
  },
  {
   "cell_type": "code",
   "execution_count": 14,
   "metadata": {},
   "outputs": [
    {
     "ename": "TypeError",
     "evalue": "submit_group_post() takes exactly 8 arguments (7 given)",
     "output_type": "error",
     "traceback": [
      "\u001b[0;31m---------------------------------------------------------------------------\u001b[0m",
      "\u001b[0;31mTypeError\u001b[0m                                 Traceback (most recent call last)",
      "\u001b[0;32m<ipython-input-14-caf9730cebc2>\u001b[0m in \u001b[0;36m<module>\u001b[0;34m()\u001b[0m\n\u001b[1;32m      5\u001b[0m \u001b[0mdescription\u001b[0m \u001b[0;34m=\u001b[0m \u001b[0;34m'It is a great book for the keen beginners. Check it out!'\u001b[0m\u001b[0;34m\u001b[0m\u001b[0m\n\u001b[1;32m      6\u001b[0m \u001b[0;34m\u001b[0m\u001b[0m\n\u001b[0;32m----> 7\u001b[0;31m \u001b[0mapplication\u001b[0m\u001b[0;34m.\u001b[0m\u001b[0msubmit_group_post\u001b[0m\u001b[0;34m(\u001b[0m\u001b[0;36m41001\u001b[0m\u001b[0;34m,\u001b[0m \u001b[0mtitle\u001b[0m\u001b[0;34m,\u001b[0m \u001b[0msummary\u001b[0m\u001b[0;34m,\u001b[0m \u001b[0msubmitted_url\u001b[0m\u001b[0;34m,\u001b[0m \u001b[0msubmitted_image_url\u001b[0m\u001b[0;34m,\u001b[0m \u001b[0mdescription\u001b[0m\u001b[0;34m)\u001b[0m\u001b[0;34m\u001b[0m\u001b[0m\n\u001b[0m",
      "\u001b[0;31mTypeError\u001b[0m: submit_group_post() takes exactly 8 arguments (7 given)"
     ]
    }
   ],
   "source": [
    "title = 'Scala for the Impatient'\n",
    "summary = 'A new book has been published'\n",
    "submitted_url = 'http://horstmann.com/scala/'\n",
    "submitted_image_url = 'http://horstmann.com/scala/images/cover.png'\n",
    "description = 'It is a great book for the keen beginners. Check it out!'\n",
    "\n",
    "application.submit_group_post(41001, title, summary, submitted_url, submitted_image_url, description)"
   ]
  },
  {
   "cell_type": "code",
   "execution_count": 15,
   "metadata": {},
   "outputs": [
    {
     "data": {
      "text/plain": [
       "{u'_total': 0}"
      ]
     },
     "execution_count": 15,
     "metadata": {},
     "output_type": "execute_result"
    }
   ],
   "source": [
    "application.get_companies(company_ids=[1035], universal_names=['apple'], selectors=['name'], params={'is-company-admin': 'true'})\n"
   ]
  },
  {
   "cell_type": "code",
   "execution_count": 16,
   "metadata": {},
   "outputs": [
    {
     "ename": "LinkedInError",
     "evalue": "403 Client Error: Forbidden for url: https://api.linkedin.com/v1/companies/1035/updates?count=2&oauth2_access_token=AQXJok60dVFTV6VHapQRtkFL50MY8xiApWvMJxX1ZZjNPPCVZja_3KI30p7VzBsZiOj5taO6xfTg6z3dPAq-50PH7UE3pB-sJxzEkY1Tvh0CCibPtyiV-1shwlIlleZgrg_fR_eIPVYkE9iKz3hAI-3JvzzhN4DZUsmuQyyn_Mhy1ZKRd6w: Unknown Error",
     "output_type": "error",
     "traceback": [
      "\u001b[0;31m---------------------------------------------------------------------------\u001b[0m",
      "\u001b[0;31mLinkedInError\u001b[0m                             Traceback (most recent call last)",
      "\u001b[0;32m<ipython-input-16-7aeecdd02368>\u001b[0m in \u001b[0;36m<module>\u001b[0;34m()\u001b[0m\n\u001b[1;32m      4\u001b[0m \u001b[0;34m\u001b[0m\u001b[0m\n\u001b[1;32m      5\u001b[0m \u001b[0;31m# Get the latest updates about Microsoft\u001b[0m\u001b[0;34m\u001b[0m\u001b[0;34m\u001b[0m\u001b[0m\n\u001b[0;32m----> 6\u001b[0;31m \u001b[0mapplication\u001b[0m\u001b[0;34m.\u001b[0m\u001b[0mget_company_updates\u001b[0m\u001b[0;34m(\u001b[0m\u001b[0;36m1035\u001b[0m\u001b[0;34m,\u001b[0m \u001b[0mparams\u001b[0m\u001b[0;34m=\u001b[0m\u001b[0;34m{\u001b[0m\u001b[0;34m'count'\u001b[0m\u001b[0;34m:\u001b[0m \u001b[0;36m2\u001b[0m\u001b[0;34m}\u001b[0m\u001b[0;34m)\u001b[0m\u001b[0;34m\u001b[0m\u001b[0m\n\u001b[0m",
      "\u001b[0;32m/home/yuselenin/.virtualenvs/test/local/lib/python2.7/site-packages/linkedin/linkedin.pyc\u001b[0m in \u001b[0;36mget_company_updates\u001b[0;34m(self, company_id, params, headers)\u001b[0m\n\u001b[1;32m    362\u001b[0m         response = self.make_request(\n\u001b[1;32m    363\u001b[0m             'GET', url, params=params, headers=headers)\n\u001b[0;32m--> 364\u001b[0;31m         \u001b[0mraise_for_error\u001b[0m\u001b[0;34m(\u001b[0m\u001b[0mresponse\u001b[0m\u001b[0;34m)\u001b[0m\u001b[0;34m\u001b[0m\u001b[0m\n\u001b[0m\u001b[1;32m    365\u001b[0m         \u001b[0;32mreturn\u001b[0m \u001b[0mresponse\u001b[0m\u001b[0;34m.\u001b[0m\u001b[0mjson\u001b[0m\u001b[0;34m(\u001b[0m\u001b[0;34m)\u001b[0m\u001b[0;34m\u001b[0m\u001b[0m\n\u001b[1;32m    366\u001b[0m \u001b[0;34m\u001b[0m\u001b[0m\n",
      "\u001b[0;32m/home/yuselenin/.virtualenvs/test/local/lib/python2.7/site-packages/linkedin/utils.pyc\u001b[0m in \u001b[0;36mraise_for_error\u001b[0;34m(response)\u001b[0m\n\u001b[1;32m     61\u001b[0m                 message = '%s: %s' % (response.get('error', error.message),\n\u001b[1;32m     62\u001b[0m                                       response.get('error_description', 'Unknown Error'))\n\u001b[0;32m---> 63\u001b[0;31m                 \u001b[0;32mraise\u001b[0m \u001b[0mLinkedInError\u001b[0m\u001b[0;34m(\u001b[0m\u001b[0mmessage\u001b[0m\u001b[0;34m)\u001b[0m\u001b[0;34m\u001b[0m\u001b[0m\n\u001b[0m\u001b[1;32m     64\u001b[0m             \u001b[0;32melse\u001b[0m\u001b[0;34m:\u001b[0m\u001b[0;34m\u001b[0m\u001b[0m\n\u001b[1;32m     65\u001b[0m                 \u001b[0;32mraise\u001b[0m \u001b[0mLinkedInError\u001b[0m\u001b[0;34m(\u001b[0m\u001b[0merror\u001b[0m\u001b[0;34m.\u001b[0m\u001b[0mmessage\u001b[0m\u001b[0;34m)\u001b[0m\u001b[0;34m\u001b[0m\u001b[0m\n",
      "\u001b[0;31mLinkedInError\u001b[0m: 403 Client Error: Forbidden for url: https://api.linkedin.com/v1/companies/1035/updates?count=2&oauth2_access_token=AQXJok60dVFTV6VHapQRtkFL50MY8xiApWvMJxX1ZZjNPPCVZja_3KI30p7VzBsZiOj5taO6xfTg6z3dPAq-50PH7UE3pB-sJxzEkY1Tvh0CCibPtyiV-1shwlIlleZgrg_fR_eIPVYkE9iKz3hAI-3JvzzhN4DZUsmuQyyn_Mhy1ZKRd6w: Unknown Error"
     ]
    }
   ],
   "source": [
    "{u'_total': 2,\n",
    " u'values': [{u'_key': u'1035', u'name': u'Microsoft'},\n",
    "  {u'_key': u'universal-name=apple', u'name': u'Apple'}]}\n",
    "\n",
    "# Get the latest updates about Microsoft\n",
    "application.get_company_updates(1035, params={'count': 2})"
   ]
  },
  {
   "cell_type": "code",
   "execution_count": 17,
   "metadata": {},
   "outputs": [
    {
     "ename": "LinkedInError",
     "evalue": "400 Client Error: Bad Request for url: https://api.linkedin.com/v1/jobs/5174636:(None)?oauth2_access_token=AQXJok60dVFTV6VHapQRtkFL50MY8xiApWvMJxX1ZZjNPPCVZja_3KI30p7VzBsZiOj5taO6xfTg6z3dPAq-50PH7UE3pB-sJxzEkY1Tvh0CCibPtyiV-1shwlIlleZgrg_fR_eIPVYkE9iKz3hAI-3JvzzhN4DZUsmuQyyn_Mhy1ZKRd6w: Unknown Error",
     "output_type": "error",
     "traceback": [
      "\u001b[0;31m---------------------------------------------------------------------------\u001b[0m",
      "\u001b[0;31mLinkedInError\u001b[0m                             Traceback (most recent call last)",
      "\u001b[0;32m<ipython-input-17-38ddfe694a91>\u001b[0m in \u001b[0;36m<module>\u001b[0;34m()\u001b[0m\n\u001b[0;32m----> 1\u001b[0;31m \u001b[0mapplication\u001b[0m\u001b[0;34m.\u001b[0m\u001b[0mget_job\u001b[0m\u001b[0;34m(\u001b[0m\u001b[0mjob_id\u001b[0m\u001b[0;34m=\u001b[0m\u001b[0;36m5174636\u001b[0m\u001b[0;34m)\u001b[0m\u001b[0;34m\u001b[0m\u001b[0m\n\u001b[0m",
      "\u001b[0;32m/home/yuselenin/.virtualenvs/test/local/lib/python2.7/site-packages/linkedin/linkedin.pyc\u001b[0m in \u001b[0;36mget_job\u001b[0;34m(self, job_id, selectors, params, headers)\u001b[0m\n\u001b[1;32m    404\u001b[0m         response = self.make_request(\n\u001b[1;32m    405\u001b[0m             'GET', url, params=params, headers=headers)\n\u001b[0;32m--> 406\u001b[0;31m         \u001b[0mraise_for_error\u001b[0m\u001b[0;34m(\u001b[0m\u001b[0mresponse\u001b[0m\u001b[0;34m)\u001b[0m\u001b[0;34m\u001b[0m\u001b[0m\n\u001b[0m\u001b[1;32m    407\u001b[0m         \u001b[0;32mreturn\u001b[0m \u001b[0mresponse\u001b[0m\u001b[0;34m.\u001b[0m\u001b[0mjson\u001b[0m\u001b[0;34m(\u001b[0m\u001b[0;34m)\u001b[0m\u001b[0;34m\u001b[0m\u001b[0m\n\u001b[1;32m    408\u001b[0m \u001b[0;34m\u001b[0m\u001b[0m\n",
      "\u001b[0;32m/home/yuselenin/.virtualenvs/test/local/lib/python2.7/site-packages/linkedin/utils.pyc\u001b[0m in \u001b[0;36mraise_for_error\u001b[0;34m(response)\u001b[0m\n\u001b[1;32m     61\u001b[0m                 message = '%s: %s' % (response.get('error', error.message),\n\u001b[1;32m     62\u001b[0m                                       response.get('error_description', 'Unknown Error'))\n\u001b[0;32m---> 63\u001b[0;31m                 \u001b[0;32mraise\u001b[0m \u001b[0mLinkedInError\u001b[0m\u001b[0;34m(\u001b[0m\u001b[0mmessage\u001b[0m\u001b[0;34m)\u001b[0m\u001b[0;34m\u001b[0m\u001b[0m\n\u001b[0m\u001b[1;32m     64\u001b[0m             \u001b[0;32melse\u001b[0m\u001b[0;34m:\u001b[0m\u001b[0;34m\u001b[0m\u001b[0m\n\u001b[1;32m     65\u001b[0m                 \u001b[0;32mraise\u001b[0m \u001b[0mLinkedInError\u001b[0m\u001b[0;34m(\u001b[0m\u001b[0merror\u001b[0m\u001b[0;34m.\u001b[0m\u001b[0mmessage\u001b[0m\u001b[0;34m)\u001b[0m\u001b[0;34m\u001b[0m\u001b[0m\n",
      "\u001b[0;31mLinkedInError\u001b[0m: 400 Client Error: Bad Request for url: https://api.linkedin.com/v1/jobs/5174636:(None)?oauth2_access_token=AQXJok60dVFTV6VHapQRtkFL50MY8xiApWvMJxX1ZZjNPPCVZja_3KI30p7VzBsZiOj5taO6xfTg6z3dPAq-50PH7UE3pB-sJxzEkY1Tvh0CCibPtyiV-1shwlIlleZgrg_fR_eIPVYkE9iKz3hAI-3JvzzhN4DZUsmuQyyn_Mhy1ZKRd6w: Unknown Error"
     ]
    }
   ],
   "source": [
    "application.get_job(job_id=5174636)"
   ]
  },
  {
   "cell_type": "code",
   "execution_count": 18,
   "metadata": {},
   "outputs": [
    {
     "ename": "LinkedInError",
     "evalue": "403 Client Error: Forbidden for url: https://api.linkedin.com/v1/people/~/job-bookmarks?oauth2_access_token=AQXJok60dVFTV6VHapQRtkFL50MY8xiApWvMJxX1ZZjNPPCVZja_3KI30p7VzBsZiOj5taO6xfTg6z3dPAq-50PH7UE3pB-sJxzEkY1Tvh0CCibPtyiV-1shwlIlleZgrg_fR_eIPVYkE9iKz3hAI-3JvzzhN4DZUsmuQyyn_Mhy1ZKRd6w: Unknown Error",
     "output_type": "error",
     "traceback": [
      "\u001b[0;31m---------------------------------------------------------------------------\u001b[0m",
      "\u001b[0;31mLinkedInError\u001b[0m                             Traceback (most recent call last)",
      "\u001b[0;32m<ipython-input-18-efe1eb5b8c78>\u001b[0m in \u001b[0;36m<module>\u001b[0;34m()\u001b[0m\n\u001b[0;32m----> 1\u001b[0;31m \u001b[0mapplication\u001b[0m\u001b[0;34m.\u001b[0m\u001b[0mget_job_bookmarks\u001b[0m\u001b[0;34m(\u001b[0m\u001b[0;34m)\u001b[0m\u001b[0;34m\u001b[0m\u001b[0m\n\u001b[0m",
      "\u001b[0;32m/home/yuselenin/.virtualenvs/test/local/lib/python2.7/site-packages/linkedin/linkedin.pyc\u001b[0m in \u001b[0;36mget_job_bookmarks\u001b[0;34m(self, selectors, params, headers)\u001b[0m\n\u001b[1;32m    414\u001b[0m         response = self.make_request(\n\u001b[1;32m    415\u001b[0m             'GET', url, params=params, headers=headers)\n\u001b[0;32m--> 416\u001b[0;31m         \u001b[0mraise_for_error\u001b[0m\u001b[0;34m(\u001b[0m\u001b[0mresponse\u001b[0m\u001b[0;34m)\u001b[0m\u001b[0;34m\u001b[0m\u001b[0m\n\u001b[0m\u001b[1;32m    417\u001b[0m         \u001b[0;32mreturn\u001b[0m \u001b[0mresponse\u001b[0m\u001b[0;34m.\u001b[0m\u001b[0mjson\u001b[0m\u001b[0;34m(\u001b[0m\u001b[0;34m)\u001b[0m\u001b[0;34m\u001b[0m\u001b[0m\n\u001b[1;32m    418\u001b[0m \u001b[0;34m\u001b[0m\u001b[0m\n",
      "\u001b[0;32m/home/yuselenin/.virtualenvs/test/local/lib/python2.7/site-packages/linkedin/utils.pyc\u001b[0m in \u001b[0;36mraise_for_error\u001b[0;34m(response)\u001b[0m\n\u001b[1;32m     61\u001b[0m                 message = '%s: %s' % (response.get('error', error.message),\n\u001b[1;32m     62\u001b[0m                                       response.get('error_description', 'Unknown Error'))\n\u001b[0;32m---> 63\u001b[0;31m                 \u001b[0;32mraise\u001b[0m \u001b[0mLinkedInError\u001b[0m\u001b[0;34m(\u001b[0m\u001b[0mmessage\u001b[0m\u001b[0;34m)\u001b[0m\u001b[0;34m\u001b[0m\u001b[0m\n\u001b[0m\u001b[1;32m     64\u001b[0m             \u001b[0;32melse\u001b[0m\u001b[0;34m:\u001b[0m\u001b[0;34m\u001b[0m\u001b[0m\n\u001b[1;32m     65\u001b[0m                 \u001b[0;32mraise\u001b[0m \u001b[0mLinkedInError\u001b[0m\u001b[0;34m(\u001b[0m\u001b[0merror\u001b[0m\u001b[0;34m.\u001b[0m\u001b[0mmessage\u001b[0m\u001b[0;34m)\u001b[0m\u001b[0;34m\u001b[0m\u001b[0m\n",
      "\u001b[0;31mLinkedInError\u001b[0m: 403 Client Error: Forbidden for url: https://api.linkedin.com/v1/people/~/job-bookmarks?oauth2_access_token=AQXJok60dVFTV6VHapQRtkFL50MY8xiApWvMJxX1ZZjNPPCVZja_3KI30p7VzBsZiOj5taO6xfTg6z3dPAq-50PH7UE3pB-sJxzEkY1Tvh0CCibPtyiV-1shwlIlleZgrg_fR_eIPVYkE9iKz3hAI-3JvzzhN4DZUsmuQyyn_Mhy1ZKRd6w: Unknown Error"
     ]
    }
   ],
   "source": [
    "application.get_job_bookmarks()"
   ]
  },
  {
   "cell_type": "code",
   "execution_count": 20,
   "metadata": {},
   "outputs": [
    {
     "data": {
      "text/plain": [
       "{u'updateKey': u'UPDATE-346891370-6321800658278187008',\n",
       " u'updateUrl': u'https://www.linkedin.com/updates?discuss=&scope=346891370&stype=M&topic=6321800658278187008&type=U&a=hfh1'}"
      ]
     },
     "execution_count": 20,
     "metadata": {},
     "output_type": "execute_result"
    }
   ],
   "source": [
    "application.submit_share('Posting from the API using JSON', 'A title for your share', None, 'http://www.linkedin.com', 'http://d.pr/3OWS')\n"
   ]
  },
  {
   "cell_type": "code",
   "execution_count": null,
   "metadata": {},
   "outputs": [],
   "source": []
  },
  {
   "cell_type": "code",
   "execution_count": null,
   "metadata": {
    "collapsed": true
   },
   "outputs": [],
   "source": []
  }
 ],
 "metadata": {
  "kernelspec": {
   "display_name": "test",
   "language": "python",
   "name": "test"
  },
  "language_info": {
   "codemirror_mode": {
    "name": "ipython",
    "version": 2
   },
   "file_extension": ".py",
   "mimetype": "text/x-python",
   "name": "python",
   "nbconvert_exporter": "python",
   "pygments_lexer": "ipython2",
   "version": "2.7.13"
  }
 },
 "nbformat": 4,
 "nbformat_minor": 2
}
