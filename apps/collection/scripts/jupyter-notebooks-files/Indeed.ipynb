{
 "cells": [
  {
   "cell_type": "code",
   "execution_count": 9,
   "metadata": {
    "collapsed": true
   },
   "outputs": [],
   "source": [
    "import re\n",
    "import mechanize\n",
    "import argparse\n",
    "from getpass import getpass\n",
    "from IPython.core.display import HTML\n",
    "import sys\n",
    "from bs4 import BeautifulSoup\n",
    "reload(sys)\n",
    "sys.setdefaultencoding('utf-8')\n"
   ]
  },
  {
   "cell_type": "code",
   "execution_count": 10,
   "metadata": {},
   "outputs": [],
   "source": [
    "br = mechanize.Browser()\n",
    "br.set_handle_robots(False)\n",
    "#br.set_handle_referer(False)\n",
    "#br.set_handle_refresh(False)\n",
    "br.addheaders = [('User-agent', 'Firefox')]\n",
    "br.open(\"https://www.indeed.com.pe/\")\n",
    "for i in br.forms():\n",
    "    print i ,\"#\"\n",
    "br.select_form(nr=0)\n",
    "br.form['q'] = \"python\"\n",
    "#br.form['l'] = \"Lima\"\n",
    "br.submit()\n",
    "print br.geturl()\n",
    "search_url=br.geturl()"
   ]
  },
  {
   "cell_type": "code",
   "execution_count": 11,
   "metadata": {
    "collapsed": true
   },
   "outputs": [],
   "source": [
    "for i in br.forms():\n",
    "    print i ,\"#\""
   ]
  },
  {
   "cell_type": "code",
   "execution_count": 12,
   "metadata": {},
   "outputs": [
    {
     "data": {
      "text/plain": [
       "50"
      ]
     },
     "execution_count": 12,
     "metadata": {},
     "output_type": "execute_result"
    }
   ],
   "source": [
    "jobslinks=[l for l in br.links() if l.url.startswith(\"/company/\") or l.url.startswith(\"/rc/\")]\n",
    "print len(jobslinks)\n",
    "for d in br.links():\n",
    "    if d.text.isdigit():\n",
    "        br.follow_link(d)\n",
    "        jobslinks+=[l for l in br.links() if l.url.startswith(\"/company/\") or l.url.startswith(\"/rc/\")]\n",
    "        #br.geturl()\n",
    "#HTML(br.response().read())\n",
    "len(jobslinks)"
   ]
  },
  {
   "cell_type": "code",
   "execution_count": 63,
   "metadata": {
    "collapsed": true
   },
   "outputs": [],
   "source": [
    "#[l for l in br.links() if l.url.startswith(\"/company/\") or l.url.startswith(\"/rc/\")]\n"
   ]
  },
  {
   "cell_type": "code",
   "execution_count": null,
   "metadata": {
    "collapsed": true
   },
   "outputs": [],
   "source": []
  },
  {
   "cell_type": "code",
   "execution_count": 13,
   "metadata": {
    "collapsed": true
   },
   "outputs": [],
   "source": [
    "def rec():\n",
    "    global jobslinks\n",
    "    temp = [l for l in br.links() if l.text==u'Siguiente\\xa0\\xbb']\n",
    "    for l in temp:\n",
    "        br.follow_link(l)\n",
    "        jobslinks+=[l for l in br.links() if l.url.startswith(\"/company/\") or l.url.startswith(\"/rc/\")]\n",
    "    if temp:\n",
    "        rec()\n",
    "rec()"
   ]
  },
  {
   "cell_type": "code",
   "execution_count": 14,
   "metadata": {},
   "outputs": [
    {
     "data": {
      "text/plain": [
       "25"
      ]
     },
     "execution_count": 14,
     "metadata": {},
     "output_type": "execute_result"
    }
   ],
   "source": [
    "len([l for l in jobslinks if l.url.startswith(\"/company/\")])"
   ]
  },
  {
   "cell_type": "code",
   "execution_count": 6,
   "metadata": {
    "collapsed": true
   },
   "outputs": [],
   "source": [
    "\n",
    "#HTML(br.response().read())"
   ]
  },
  {
   "cell_type": "code",
   "execution_count": 16,
   "metadata": {},
   "outputs": [],
   "source": [
    "my_array=[]\n",
    "for j in jobslinks[:3]:\n",
    "    br.follow_link(j)\n",
    "    print br.geturl()\n",
    "    if br.geturl().startswith(\"https://www.indeed.com.pe\"):\n",
    "        soup = BeautifulSoup(br.response().read(), \"html.parser\")\n",
    "        ss = soup.select('div[data-tn-component=jobHeader]')[0]\n",
    "        my_array.append(\n",
    "            dict(\n",
    "                url=j.url,\n",
    "                company=ss.select('.company')[0].string,\n",
    "                title=ss.select('.jobtitle')[0].string,\n",
    "                location=ss.select('.location')[0].string,\n",
    "                description=soup.find(id = 'job_summary').get_text(),\n",
    "                html=soup.find(id = 'job_summary'),\n",
    "                date=soup.select('.result-link-bar .date')[0].string\n",
    "            )\n",
    "        )"
   ]
  },
  {
   "cell_type": "code",
   "execution_count": 9,
   "metadata": {},
   "outputs": [
    {
     "data": {
      "text/plain": [
       "u'https://www.indeed.com.pe/Empleos-de-python-en-Lima'"
      ]
     },
     "execution_count": 9,
     "metadata": {},
     "output_type": "execute_result"
    }
   ],
   "source": [
    "br.open(search_url)\n",
    "br.geturl()"
   ]
  },
  {
   "cell_type": "code",
   "execution_count": null,
   "metadata": {
    "collapsed": true
   },
   "outputs": [],
   "source": []
  },
  {
   "cell_type": "code",
   "execution_count": 18,
   "metadata": {},
   "outputs": [
    {
     "data": {
      "text/plain": [
       "u'https://www.indeed.com.pe/trabajo?q=python&l=Lima'"
      ]
     },
     "execution_count": 18,
     "metadata": {},
     "output_type": "execute_result"
    }
   ],
   "source": [
    "search_url"
   ]
  },
  {
   "cell_type": "code",
   "execution_count": 22,
   "metadata": {},
   "outputs": [
    {
     "data": {
      "text/plain": [
       "[0, 1, 2, 3, 4, 5, 6, 7, 8, 9]"
      ]
     },
     "execution_count": 22,
     "metadata": {},
     "output_type": "execute_result"
    }
   ],
   "source": [
    "r=[]\n",
    "for i in range(10):\n",
    "    r.append(i)\n",
    "r"
   ]
  },
  {
   "cell_type": "code",
   "execution_count": 24,
   "metadata": {},
   "outputs": [
    {
     "data": {
      "text/plain": [
       "[16, 17, 18, 19]"
      ]
     },
     "execution_count": 24,
     "metadata": {},
     "output_type": "execute_result"
    }
   ],
   "source": [
    "[i for i in range(20) if i>15]"
   ]
  },
  {
   "cell_type": "code",
   "execution_count": null,
   "metadata": {
    "collapsed": true
   },
   "outputs": [],
   "source": []
  },
  {
   "cell_type": "code",
   "execution_count": 46,
   "metadata": {
    "collapsed": true
   },
   "outputs": [],
   "source": [
    "J=[l for l in br.links() if l.url.startswith(\"/company/\") or l.url.startswith(\"/rc/\")]\n"
   ]
  },
  {
   "cell_type": "code",
   "execution_count": 58,
   "metadata": {
    "collapsed": true
   },
   "outputs": [],
   "source": [
    "br.follow_link(J[0])\n",
    "soup = BeautifulSoup(br.response().read(), \"html.parser\")\n"
   ]
  },
  {
   "cell_type": "code",
   "execution_count": null,
   "metadata": {
    "collapsed": true
   },
   "outputs": [],
   "source": []
  },
  {
   "cell_type": "code",
   "execution_count": null,
   "metadata": {
    "collapsed": true
   },
   "outputs": [],
   "source": []
  },
  {
   "cell_type": "code",
   "execution_count": 17,
   "metadata": {},
   "outputs": [
    {
     "data": {
      "text/plain": [
       "[{'company': u'RCS',\n",
       "  'date': u'hace 30+ d\\xedas',\n",
       "  'description': u'Por encargo de nuestro cliente del rubro de Tecnolog\\xeda, nos encontramos en b\\xfasqueda de un Analista Open Source ; que cumpla con los siguientes requisitos:REQUISITOS: Ingeniero o T\\xe9cnico de sistemas, inform\\xe1tica o afinesExperiencia m\\xedmima de 3 a\\xf1os en entornos de opensource.Experiencia Programando en alguno de los siguientes lenguajes OpenSources: Python, Ruby, Java.Experiencia usando: Javascript, HTML5, AJAX, Less CSS, CSS3 (NO EXCLUYENTE).Experiencia en entornos: Linux, Nginx, Apache.Experiencia y manejando la base de datos PostgreSQLHabilitades de auto- aprendizaje y disposici\\xf3n para aprender nuevos lenguajes de programaci\\xf3n y herramientas tecnol\\xf3gicas.Experiencia y Conocimiento de: POO y ORM.Experiencia en proyectos de implementaci\\xf3n de software a empresas (deseable).Ingl\\xe9s Intermedio- Avanzado.FUNCION PRINCIPAL: An\\xe1lisis, desarrollo, test, documentaci\\xf3n, soporte seg\\xfan requerimientos del proyecto.Participar activamente en propuestas de innovaci\\xf3n tecnol\\xf3gica.Aprendizaje y utilizaci\\xf3n de entornos y ecosistemas cloud computingBENEFICIOS: Salario acorde al mercado.Pertenecer a una s\\xf3lida organizaci\\xd3NOportunidad de crecimiento.Agradable clima laboral.Tipo de puesto: Tiempo completoSalario: S/.3.000,00 a S/.4.500,00 /mesUbicaci\\xf3n del empleo:Lima, LimaEducaci\\xf3n requerida:BachilleratoExperiencia requerida:puestos similares: 3 a\\xf1osIdioma requerido:ingl\\xe9s intermedioLicencia o certificado requerido:en proyectos de implementaci\\xf3n de software a empresas y procesos de negocio',\n",
       "  'html': <span class=\"summary\" id=\"job_summary\"><p>Por encargo de nuestro cliente del rubro de Tecnolog\\xeda, nos encontramos en b\\xfasqueda de un <b>Analista Open Source</b> ; que cumpla con los siguientes requisitos:</p><p><b>REQUISITOS: </b></p><ul><li>Ingeniero o T\\xe9cnico de sistemas, inform\\xe1tica o afines</li><li>Experiencia m\\xedmima de 3 a\\xf1os en entornos de opensource.</li><li>Experiencia Programando en alguno de los siguientes lenguajes OpenSources: Python, Ruby, Java.</li><li>Experiencia usando: Javascript, HTML5, AJAX, Less CSS, CSS3 (NO EXCLUYENTE).</li><li>Experiencia en entornos: Linux, Nginx, Apache.</li><li>Experiencia y manejando la base de datos PostgreSQL</li><li>Habilitades de auto- aprendizaje y disposici\\xf3n para aprender nuevos lenguajes de programaci\\xf3n y herramientas tecnol\\xf3gicas.</li><li>Experiencia y Conocimiento de: POO y ORM.</li><li>Experiencia en proyectos de implementaci\\xf3n de software a empresas (deseable).</li><li>Ingl\\xe9s Intermedio- Avanzado.</li><li><b>FUNCION PRINCIPAL: </b></li><li>An\\xe1lisis, desarrollo, test, documentaci\\xf3n, soporte seg\\xfan requerimientos del proyecto.</li><li>Participar activamente en propuestas de innovaci\\xf3n tecnol\\xf3gica.</li><li>Aprendizaje y utilizaci\\xf3n de entornos y ecosistemas cloud computing</li></ul><p><b>BENEFICIOS: </b></p><ul><li>Salario acorde al mercado.</li><li>Pertenecer a una s\\xf3lida organizaci\\xd3N</li><li>Oportunidad de crecimiento.</li><li>Agradable clima laboral.</li></ul><p>Tipo de puesto: Tiempo completo</p><p>Salario: S/.3.000,00 a S/.4.500,00 /mes</p><p>Ubicaci\\xf3n del empleo:</p><ul><li>Lima, Lima</li></ul><p>Educaci\\xf3n requerida:</p><ul><li>Bachillerato</li></ul><p>Experiencia requerida:</p><ul><li>puestos similares: 3 a\\xf1os</li></ul><p>Idioma requerido:</p><ul><li>ingl\\xe9s intermedio</li></ul><p>Licencia o certificado requerido:</p><ul><li>en proyectos de implementaci\\xf3n de software a empresas y procesos de negocio</li></ul></span>,\n",
       "  'location': u'Lima, Lima',\n",
       "  'title': u'Analista Funcional de TI',\n",
       "  'url': u'/company/RCS/jobs/Analista-funcional-ti-927947ab9817cbab?fccid=118c214ed10f5568'},\n",
       " {'company': u'Amazona Group',\n",
       "  'date': u'hace 30+ d\\xedas',\n",
       "  'description': u'En Amazona Group estamos buscando un desarrollador web para unirse a nuestra empresa a tiempo completo.Las tareas serian para la optimizaci\\xf3n de un \\u2018Web Interface\\u2019 de un dialer, crm system y programar la automatizaci\\xf3n de varios procesos (Tratamiento de csv files...)REQUISITOSEstudios T\\xe9cnicos o Universitarios en ingenier\\xeda de sistemas, computaci\\xf3n e inform\\xe1tica o carreras afines.Contar con habilidades en HTML5, CSS3 y PHP.Conocimiento en MySQL.Conocimientos en Javascript, en especial jQuery.Conocimiento en,Java o Python deseableIngles nivel intermedioBuscamos a una persona con habilidades para el trabajo en equipo; que sea organizado y orientado a detalles. Debe ser capaz de programar c\\xf3digo limpio y escalable, as\\xed como tambi\\xe9n mantenerse actualizado en las \\xfaltimas tecnolog\\xedas web.Tipo de puesto: Tiempo completoExperiencia requerida:desarrollo de aplicaciones web.: 1 a\\xf1o',\n",
       "  'html': <span class=\"summary\" id=\"job_summary\"><p>En Amazona Group estamos buscando un desarrollador web para unirse a nuestra empresa a tiempo completo.</p><p>Las tareas serian para la optimizaci\\xf3n de un \\u2018Web Interface\\u2019 de un dialer, crm system y programar la automatizaci\\xf3n de varios procesos (Tratamiento de csv files...)</p><p>REQUISITOS</p><p>Estudios T\\xe9cnicos o Universitarios en ingenier\\xeda de sistemas, computaci\\xf3n e inform\\xe1tica o carreras afines.</p><p>Contar con habilidades en HTML5, CSS3 y PHP.</p><p>Conocimiento en MySQL.</p><p>Conocimientos en Javascript, en especial jQuery.</p><p>Conocimiento en,Java o Python deseable</p><p>Ingles nivel intermedio</p><p>Buscamos a una persona con habilidades para el trabajo en equipo; que sea organizado y orientado a detalles. Debe ser capaz de programar c\\xf3digo limpio y escalable, as\\xed como tambi\\xe9n mantenerse actualizado en las \\xfaltimas tecnolog\\xedas web.</p><p>Tipo de puesto: Tiempo completo</p><p>Experiencia requerida:</p><ul><li>desarrollo de aplicaciones web.: 1 a\\xf1o</li></ul></span>,\n",
       "  'location': u'Lima, Lima',\n",
       "  'title': u'Desarrollador web Junior',\n",
       "  'url': u'/company/Amazona-Group/jobs/Desarrollador-web-junior-b209ceeae9d2000b?fccid=731d54be7b4d4e55'},\n",
       " {'company': u'UBICUS',\n",
       "  'date': u'hace 30 d\\xedas',\n",
       "  'description': u'Empresa encargada de desarrollo de software para diversas \\xe1reas requiere incorporar a un Desarrollador de SoftwareRequisitos:a) Nivel educacional:  Bachiller universitariob) T\\xedtulo profesional :  Ciencia de computaci\\xf3n o carreras afines a computaci\\xf3n o inform\\xe1ticac) Experiencia m\\xednima de 1 a\\xf1o\\xb7 Conocimiento\\xb7 HTML, CSS y JavaScript\\xb7 jQuery, JSON, AngularJS o React\\xb7 Java, Python o c#\\xb7 RESTful web services\\xb7 T-SQL (SQL Server) o PL-SQL (Oracle)\\xb7 Programaci\\xf3n orientada a objetos y patrones de dise\\xf1oFunciones principales: 1. Desarrollar las soluciones y plataformas tecnol\\xf3gicas de la empresa.2. Solido manejo de estructuras de datos y algoritmos.3. Capacidad de aprender nuevas tecnolog\\xedas de forma r\\xe1pida.4. Alta capacidad de investigaci\\xf3n, autoaprendizaje y autodidactaTipo de puesto: TemporalSalario: S/.1.000,00 a S/.2.000,00 /mes',\n",
       "  'html': <span class=\"summary\" id=\"job_summary\"><p>Empresa encargada de desarrollo de software para diversas \\xe1reas requiere incorporar a un Desarrollador de Software</p><p>Requisitos:</p><p>a) <b>Nivel educacional: </b> Bachiller universitario</p><p>b) <b>T\\xedtulo profesional</b> <b>: </b> Ciencia de computaci\\xf3n o carreras afines a computaci\\xf3n o inform\\xe1tica</p><p>c) Experiencia m\\xednima de 1 a\\xf1o</p><p>\\xb7 <b>Conocimiento</b></p><p>\\xb7 HTML, CSS y JavaScript</p><p>\\xb7 jQuery, JSON, AngularJS o React</p><p>\\xb7 Java, Python o c#</p><p>\\xb7 RESTful web services</p><p>\\xb7 T-SQL (SQL Server) o PL-SQL (Oracle)</p><p>\\xb7 Programaci\\xf3n orientada a objetos y patrones de dise\\xf1o</p><p><b>Funciones principales: </b></p><p>1. Desarrollar las soluciones y plataformas tecnol\\xf3gicas de la empresa.</p><p>2. Solido manejo de estructuras de datos y algoritmos.</p><p>3. Capacidad de aprender nuevas tecnolog\\xedas de forma r\\xe1pida.</p><p>4. Alta capacidad de investigaci\\xf3n, autoaprendizaje y autodidacta</p><p>Tipo de puesto: Temporal</p><p>Salario: S/.1.000,00 a S/.2.000,00 /mes</p></span>,\n",
       "  'location': u'Lima, Lima',\n",
       "  'title': u'Desarrollador de Software',\n",
       "  'url': u'/company/Econoquimic/jobs/Desarrollador-software-90caaaccab8306a5?fccid=2476c2b62a326846'}]"
      ]
     },
     "execution_count": 17,
     "metadata": {},
     "output_type": "execute_result"
    }
   ],
   "source": [
    "my_array"
   ]
  }
 ],
 "metadata": {
  "kernelspec": {
   "display_name": "test",
   "language": "python",
   "name": "test"
  },
  "language_info": {
   "codemirror_mode": {
    "name": "ipython",
    "version": 2
   },
   "file_extension": ".py",
   "mimetype": "text/x-python",
   "name": "python",
   "nbconvert_exporter": "python",
   "pygments_lexer": "ipython2",
   "version": "2.7.13"
  }
 },
 "nbformat": 4,
 "nbformat_minor": 2
}
